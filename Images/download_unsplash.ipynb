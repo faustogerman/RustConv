{
 "cells": [
  {
   "cell_type": "code",
   "execution_count": 1,
   "metadata": {},
   "outputs": [],
   "source": [
    "import pandas as pd\n",
    "import requests\n",
    "from tqdm import tqdm\n",
    "import time"
   ]
  },
  {
   "cell_type": "code",
   "execution_count": 2,
   "metadata": {},
   "outputs": [],
   "source": [
    "urls = pd.read_csv(\"./unsplash-research-dataset-lite-latest/photos.tsv000\", sep=\"\\t\")[\"photo_image_url\"]\n"
   ]
  },
  {
   "cell_type": "code",
   "execution_count": 3,
   "metadata": {},
   "outputs": [
    {
     "name": "stderr",
     "output_type": "stream",
     "text": [
      "100%|██████████| 500/500 [06:04<00:00,  1.37it/s]\n"
     ]
    }
   ],
   "source": [
    "images_subset = urls.sample(500, random_state=42)\n",
    "\n",
    "for i, url in tqdm(enumerate(images_subset), total=len(images_subset)):\n",
    "    response = requests.get(url, allow_redirects=True)\n",
    "    open(f\"./collection/{url.split('/')[-1]}.png\", 'wb').write(response.content)\n",
    "    # time.sleep(3)"
   ]
  }
 ],
 "metadata": {
  "kernelspec": {
   "display_name": "narrative-trails",
   "language": "python",
   "name": "python3"
  },
  "language_info": {
   "codemirror_mode": {
    "name": "ipython",
    "version": 3
   },
   "file_extension": ".py",
   "mimetype": "text/x-python",
   "name": "python",
   "nbconvert_exporter": "python",
   "pygments_lexer": "ipython3",
   "version": "3.9.18"
  }
 },
 "nbformat": 4,
 "nbformat_minor": 2
}
